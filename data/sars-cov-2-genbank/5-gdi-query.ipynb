{
 "cells": [
  {
   "cell_type": "markdown",
   "id": "e65a27a4-c6d5-4917-ae13-4d3d44ebc2b8",
   "metadata": {},
   "source": [
    "# GDI query\n",
    "\n",
    "Let's now execute some queries on this data. First we'll connect to the project."
   ]
  },
  {
   "cell_type": "code",
   "execution_count": 1,
   "id": "6e4d02f5-6ac4-486c-a24c-ed64eb100394",
   "metadata": {},
   "outputs": [
    {
     "name": "stderr",
     "output_type": "stream",
     "text": [
      "/home/CSCScience.ca/apetkau/.local/lib/python3.8/site-packages/requests/__init__.py:89: RequestsDependencyWarning: urllib3 (1.26.4) or chardet (3.0.4) doesn't match a supported version!\n",
      "  warnings.warn(\"urllib3 ({}) or chardet ({}) doesn't match a supported \"\n"
     ]
    },
    {
     "data": {
      "text/plain": [
       "<GenomicsDataIndex(samples=395)>"
      ]
     },
     "execution_count": 1,
     "metadata": {},
     "output_type": "execute_result"
    }
   ],
   "source": [
    "from pathlib import Path\n",
    "\n",
    "import genomics_data_index.api as gdi\n",
    "\n",
    "project_dir = Path('data/sars-cov-2-genbank-index')\n",
    "\n",
    "db = gdi.GenomicsDataIndex.connect(project_dir)\n",
    "db"
   ]
  },
  {
   "cell_type": "markdown",
   "id": "db3092eb-0292-4e17-8e22-1fb041e9688b",
   "metadata": {},
   "source": [
    "# Load up metadata"
   ]
  },
  {
   "cell_type": "code",
   "execution_count": 5,
   "id": "bb08ca37-8e1e-4508-b4e1-902d6c74702e",
   "metadata": {},
   "outputs": [
    {
     "ename": "NameError",
     "evalue": "name 'metadata_df' is not defined",
     "output_type": "error",
     "traceback": [
      "\u001b[0;31m---------------------------------------------------------------------------\u001b[0m",
      "\u001b[0;31mNameError\u001b[0m                                 Traceback (most recent call last)",
      "\u001b[0;32m<ipython-input-5-bfe221c22501>\u001b[0m in \u001b[0;36m<module>\u001b[0;34m\u001b[0m\n\u001b[1;32m      2\u001b[0m \u001b[0;34m\u001b[0m\u001b[0m\n\u001b[1;32m      3\u001b[0m \u001b[0;31m# metadata_df = pd.read_csv(project_dir / 'metadata.tsv', dtype=str)\u001b[0m\u001b[0;34m\u001b[0m\u001b[0;34m\u001b[0m\u001b[0;34m\u001b[0m\u001b[0m\n\u001b[0;32m----> 4\u001b[0;31m \u001b[0mmetadata_df\u001b[0m\u001b[0;34m\u001b[0m\u001b[0;34m\u001b[0m\u001b[0m\n\u001b[0m",
      "\u001b[0;31mNameError\u001b[0m: name 'metadata_df' is not defined"
     ]
    }
   ],
   "source": [
    "import pandas as pd\n",
    "\n",
    "# metadata_df = pd.read_csv(project_dir / 'metadata.tsv', dtype=str)\n",
    "# metadata_df"
   ]
  },
  {
   "cell_type": "markdown",
   "id": "7e8e46c7-b468-4d0e-a46b-166264560027",
   "metadata": {},
   "source": [
    "# Start query"
   ]
  },
  {
   "cell_type": "code",
   "execution_count": 7,
   "id": "4136c122-1f14-495e-915c-216baa627eb8",
   "metadata": {},
   "outputs": [
    {
     "data": {
      "text/plain": [
       "'MN996528.1-ref'"
      ]
     },
     "execution_count": 7,
     "metadata": {},
     "output_type": "execute_result"
    }
   ],
   "source": [
    "reference_name = db.reference_names()[0]\n",
    "reference_name"
   ]
  },
  {
   "cell_type": "code",
   "execution_count": 10,
   "id": "ed5b452c-3794-46c6-b957-e478498e430f",
   "metadata": {},
   "outputs": [
    {
     "data": {
      "text/plain": [
       "<ExperimentalTreeSamplesQuery[100% (395/395) samples]>"
      ]
     },
     "execution_count": 10,
     "metadata": {},
     "output_type": "execute_result"
    }
   ],
   "source": [
    "t = db.samples_query(universe='mutations_experimental', reference_name=reference_name).set_outgroup(reference_name)\n",
    "t"
   ]
  },
  {
   "cell_type": "markdown",
   "id": "027af1e1-0ca2-4fb5-a722-2c97a5e008ff",
   "metadata": {},
   "source": [
    "# Define mutations as amino acid names\n",
    "\n",
    "I currently don't have nucleotide to amino acid mutation mapping working, so I have to do that here myself in a dictionary."
   ]
  },
  {
   "cell_type": "code",
   "execution_count": 19,
   "id": "c1f48229-8771-42e0-9d31-193577d5873e",
   "metadata": {},
   "outputs": [
    {
     "data": {
      "text/html": [
       "<div>\n",
       "<style scoped>\n",
       "    .dataframe tbody tr th:only-of-type {\n",
       "        vertical-align: middle;\n",
       "    }\n",
       "\n",
       "    .dataframe tbody tr th {\n",
       "        vertical-align: top;\n",
       "    }\n",
       "\n",
       "    .dataframe thead th {\n",
       "        text-align: right;\n",
       "    }\n",
       "</style>\n",
       "<table border=\"1\" class=\"dataframe\">\n",
       "  <thead>\n",
       "    <tr style=\"text-align: right;\">\n",
       "      <th></th>\n",
       "      <th>Sequence</th>\n",
       "      <th>Position</th>\n",
       "      <th>Deletion</th>\n",
       "      <th>Insertion</th>\n",
       "      <th>Count</th>\n",
       "    </tr>\n",
       "    <tr>\n",
       "      <th>Mutation</th>\n",
       "      <th></th>\n",
       "      <th></th>\n",
       "      <th></th>\n",
       "      <th></th>\n",
       "      <th></th>\n",
       "    </tr>\n",
       "  </thead>\n",
       "  <tbody>\n",
       "    <tr>\n",
       "      <th>MN996528.1:16690:G:T</th>\n",
       "      <td>MN996528.1</td>\n",
       "      <td>16690</td>\n",
       "      <td>G</td>\n",
       "      <td>T</td>\n",
       "      <td>1</td>\n",
       "    </tr>\n",
       "    <tr>\n",
       "      <th>MN996528.1:14755:C:T</th>\n",
       "      <td>MN996528.1</td>\n",
       "      <td>14755</td>\n",
       "      <td>C</td>\n",
       "      <td>T</td>\n",
       "      <td>1</td>\n",
       "    </tr>\n",
       "    <tr>\n",
       "      <th>MN996528.1:14747:A:G</th>\n",
       "      <td>MN996528.1</td>\n",
       "      <td>14747</td>\n",
       "      <td>A</td>\n",
       "      <td>G</td>\n",
       "      <td>1</td>\n",
       "    </tr>\n",
       "    <tr>\n",
       "      <th>MN996528.1:26568:C:A</th>\n",
       "      <td>MN996528.1</td>\n",
       "      <td>26568</td>\n",
       "      <td>C</td>\n",
       "      <td>A</td>\n",
       "      <td>1</td>\n",
       "    </tr>\n",
       "    <tr>\n",
       "      <th>MN996528.1:14659:T:C</th>\n",
       "      <td>MN996528.1</td>\n",
       "      <td>14659</td>\n",
       "      <td>T</td>\n",
       "      <td>C</td>\n",
       "      <td>1</td>\n",
       "    </tr>\n",
       "    <tr>\n",
       "      <th>...</th>\n",
       "      <td>...</td>\n",
       "      <td>...</td>\n",
       "      <td>...</td>\n",
       "      <td>...</td>\n",
       "      <td>...</td>\n",
       "    </tr>\n",
       "    <tr>\n",
       "      <th>MN996528.1:15324:C:T</th>\n",
       "      <td>MN996528.1</td>\n",
       "      <td>15324</td>\n",
       "      <td>C</td>\n",
       "      <td>T</td>\n",
       "      <td>135</td>\n",
       "    </tr>\n",
       "    <tr>\n",
       "      <th>MN996528.1:3037:C:T</th>\n",
       "      <td>MN996528.1</td>\n",
       "      <td>3037</td>\n",
       "      <td>C</td>\n",
       "      <td>T</td>\n",
       "      <td>361</td>\n",
       "    </tr>\n",
       "    <tr>\n",
       "      <th>MN996528.1:241:C:T</th>\n",
       "      <td>MN996528.1</td>\n",
       "      <td>241</td>\n",
       "      <td>C</td>\n",
       "      <td>T</td>\n",
       "      <td>364</td>\n",
       "    </tr>\n",
       "    <tr>\n",
       "      <th>MN996528.1:23403:A:G</th>\n",
       "      <td>MN996528.1</td>\n",
       "      <td>23403</td>\n",
       "      <td>A</td>\n",
       "      <td>G</td>\n",
       "      <td>365</td>\n",
       "    </tr>\n",
       "    <tr>\n",
       "      <th>MN996528.1:14408:C:T</th>\n",
       "      <td>MN996528.1</td>\n",
       "      <td>14408</td>\n",
       "      <td>C</td>\n",
       "      <td>T</td>\n",
       "      <td>366</td>\n",
       "    </tr>\n",
       "  </tbody>\n",
       "</table>\n",
       "<p>534 rows × 5 columns</p>\n",
       "</div>"
      ],
      "text/plain": [
       "                        Sequence  Position Deletion Insertion  Count\n",
       "Mutation                                                            \n",
       "MN996528.1:16690:G:T  MN996528.1     16690        G         T      1\n",
       "MN996528.1:14755:C:T  MN996528.1     14755        C         T      1\n",
       "MN996528.1:14747:A:G  MN996528.1     14747        A         G      1\n",
       "MN996528.1:26568:C:A  MN996528.1     26568        C         A      1\n",
       "MN996528.1:14659:T:C  MN996528.1     14659        T         C      1\n",
       "...                          ...       ...      ...       ...    ...\n",
       "MN996528.1:15324:C:T  MN996528.1     15324        C         T    135\n",
       "MN996528.1:3037:C:T   MN996528.1      3037        C         T    361\n",
       "MN996528.1:241:C:T    MN996528.1       241        C         T    364\n",
       "MN996528.1:23403:A:G  MN996528.1     23403        A         G    365\n",
       "MN996528.1:14408:C:T  MN996528.1     14408        C         T    366\n",
       "\n",
       "[534 rows x 5 columns]"
      ]
     },
     "execution_count": 19,
     "metadata": {},
     "output_type": "execute_result"
    }
   ],
   "source": [
    "t.summary_features().sort_values('Count')"
   ]
  },
  {
   "cell_type": "code",
   "execution_count": 15,
   "id": "78303c0b-bce5-4455-8173-a48f23398e31",
   "metadata": {},
   "outputs": [],
   "source": [
    "mut = {\n",
    "    \n",
    "}"
   ]
  },
  {
   "cell_type": "markdown",
   "id": "0ae36520-404d-4001-9731-606ef79a9ce7",
   "metadata": {},
   "source": [
    "# Visualize tree"
   ]
  },
  {
   "cell_type": "code",
   "execution_count": 35,
   "id": "b762be89-afa7-4aa2-853f-6d51d4137e40",
   "metadata": {},
   "outputs": [],
   "source": [
    "# t.tree_styler(mode='c', show_leaf_names=False,\n",
    "#               annotate_box_width=100, annotate_opacity_absent=1.0, annotate_border_width=1,\n",
    "#               annotate_guiding_lines=False)\\\n",
    "#     .annotate(t.hasa('MN996528.1:15324:C:T'))\\\n",
    "#     .render(w=500)"
   ]
  }
 ],
 "metadata": {
  "kernelspec": {
   "display_name": "Python 3",
   "language": "python",
   "name": "python3"
  },
  "language_info": {
   "codemirror_mode": {
    "name": "ipython",
    "version": 3
   },
   "file_extension": ".py",
   "mimetype": "text/x-python",
   "name": "python",
   "nbconvert_exporter": "python",
   "pygments_lexer": "ipython3",
   "version": "3.8.8"
  }
 },
 "nbformat": 4,
 "nbformat_minor": 5
}

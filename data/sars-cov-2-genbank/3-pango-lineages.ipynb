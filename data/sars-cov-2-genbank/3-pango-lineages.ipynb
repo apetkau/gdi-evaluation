{
 "cells": [
  {
   "cell_type": "markdown",
   "id": "398dfdb7-4b49-4471-beca-4d997d4229fd",
   "metadata": {},
   "source": [
    "# Pangolin lineages\n",
    "\n",
    "We will now add pangolin lineages to the metadata.\n",
    "\n",
    "Let's first update pangolin to the latest version."
   ]
  },
  {
   "cell_type": "code",
   "execution_count": 1,
   "id": "ac5a9c90-ac7a-42bd-aa2a-bed791ae1c8d",
   "metadata": {},
   "outputs": [
    {
     "name": "stdout",
     "output_type": "stream",
     "text": [
      "pangolin already latest release (v.2.4.2)\n",
      "pangoLEARN already latest release (2021-04-28)\n"
     ]
    }
   ],
   "source": [
    "!pangolin --update"
   ]
  },
  {
   "cell_type": "markdown",
   "id": "f7d494e8-c7be-404c-b94b-7d7bf114f588",
   "metadata": {},
   "source": [
    "## Run pangolin"
   ]
  },
  {
   "cell_type": "code",
   "execution_count": 2,
   "id": "9c130f07-d0be-459f-9eb1-87d8c355afb5",
   "metadata": {},
   "outputs": [
    {
     "name": "stdout",
     "output_type": "stream",
     "text": [
      "Took 0.3 minutes\n",
      "Output in: data/lineage_report.csv\n"
     ]
    }
   ],
   "source": [
    "import time\n",
    "\n",
    "input_sequences = 'data/all.fasta'\n",
    "output_lineages = 'data/lineage_report.csv'\n",
    "output_log_out = 'data/pangolin.out.log'\n",
    "output_log_err = 'data/pangolin.err.log'\n",
    "\n",
    "begin_time = time.time()\n",
    "!pangolin -t 48 --outfile {output_lineages} {input_sequences} 2>{output_log_err} 1>{output_log_out}\n",
    "end_time = time.time()\n",
    "print(f'Took {(end_time - begin_time)/60:0.1f} minutes')\n",
    "print(f'Output in: {output_lineages}')"
   ]
  },
  {
   "cell_type": "code",
   "execution_count": 3,
   "id": "cafda177-e28e-4a2a-9216-ed3749ece4a6",
   "metadata": {},
   "outputs": [
    {
     "name": "stdout",
     "output_type": "stream",
     "text": [
      "\u001b[33mJob counts:\n",
      "\tcount\tjobs\n",
      "\t1\tadd_failed_seqs\n",
      "\t1\u001b[0m\n",
      "/home/CSCScience.ca/apetkau/.local/lib/python3.8/site-packages/requests/__init__.py:89: RequestsDependencyWarning: urllib3 (1.26.4) or chardet (3.0.4) doesn't match a supported version!\n",
      "  warnings.warn(\"urllib3 ({}) or chardet ({}) doesn't match a supported \"\n",
      "\u001b[33mJob counts:\n",
      "\tcount\tjobs\n",
      "\t1\toverwrite\n",
      "\t1\u001b[0m\n"
     ]
    }
   ],
   "source": [
    "!tail {output_log_err}"
   ]
  },
  {
   "cell_type": "markdown",
   "id": "661385e5-f8e0-4fd9-9945-a97601094271",
   "metadata": {},
   "source": [
    "## Merge pangolin lineages to existing metadata"
   ]
  },
  {
   "cell_type": "code",
   "execution_count": 8,
   "id": "deed2b41-8abf-4a99-8b5f-39c5cf131c87",
   "metadata": {},
   "outputs": [
    {
     "name": "stdout",
     "output_type": "stream",
     "text": [
      "length pangolin_df: 395\n"
     ]
    },
    {
     "data": {
      "text/html": [
       "<div>\n",
       "<style scoped>\n",
       "    .dataframe tbody tr th:only-of-type {\n",
       "        vertical-align: middle;\n",
       "    }\n",
       "\n",
       "    .dataframe tbody tr th {\n",
       "        vertical-align: top;\n",
       "    }\n",
       "\n",
       "    .dataframe thead th {\n",
       "        text-align: right;\n",
       "    }\n",
       "</style>\n",
       "<table border=\"1\" class=\"dataframe\">\n",
       "  <thead>\n",
       "    <tr style=\"text-align: right;\">\n",
       "      <th></th>\n",
       "      <th>taxon</th>\n",
       "      <th>lineage</th>\n",
       "      <th>conflict</th>\n",
       "      <th>pangolin_version</th>\n",
       "      <th>pangoLEARN_version</th>\n",
       "      <th>pango_version</th>\n",
       "      <th>status</th>\n",
       "      <th>note</th>\n",
       "    </tr>\n",
       "  </thead>\n",
       "  <tbody>\n",
       "    <tr>\n",
       "      <th>0</th>\n",
       "      <td>NC_045512</td>\n",
       "      <td>B</td>\n",
       "      <td>0.0</td>\n",
       "      <td>2.4.2</td>\n",
       "      <td>2021-04-28</td>\n",
       "      <td>v1.1.23</td>\n",
       "      <td>passed_qc</td>\n",
       "      <td>NaN</td>\n",
       "    </tr>\n",
       "    <tr>\n",
       "      <th>1</th>\n",
       "      <td>MN908947</td>\n",
       "      <td>B</td>\n",
       "      <td>0.0</td>\n",
       "      <td>2.4.2</td>\n",
       "      <td>2021-04-28</td>\n",
       "      <td>v1.1.23</td>\n",
       "      <td>passed_qc</td>\n",
       "      <td>NaN</td>\n",
       "    </tr>\n",
       "  </tbody>\n",
       "</table>\n",
       "</div>"
      ],
      "text/plain": [
       "       taxon lineage  conflict pangolin_version pangoLEARN_version  \\\n",
       "0  NC_045512       B       0.0            2.4.2         2021-04-28   \n",
       "1   MN908947       B       0.0            2.4.2         2021-04-28   \n",
       "\n",
       "  pango_version     status note  \n",
       "0       v1.1.23  passed_qc  NaN  \n",
       "1       v1.1.23  passed_qc  NaN  "
      ]
     },
     "execution_count": 8,
     "metadata": {},
     "output_type": "execute_result"
    }
   ],
   "source": [
    "import pandas as pd\n",
    "\n",
    "pangolin_df = pd.read_csv(output_lineages)\n",
    "print(f'length pangolin_df: {len(pangolin_df)}')\n",
    "pangolin_df.head(2)"
   ]
  },
  {
   "cell_type": "code",
   "execution_count": 10,
   "id": "759605a8-311d-4b1e-8114-d4acc7a6c575",
   "metadata": {},
   "outputs": [
    {
     "name": "stdout",
     "output_type": "stream",
     "text": [
      "length metadata_genbank_df: 395\n"
     ]
    },
    {
     "data": {
      "text/html": [
       "<div>\n",
       "<style scoped>\n",
       "    .dataframe tbody tr th:only-of-type {\n",
       "        vertical-align: middle;\n",
       "    }\n",
       "\n",
       "    .dataframe tbody tr th {\n",
       "        vertical-align: top;\n",
       "    }\n",
       "\n",
       "    .dataframe thead th {\n",
       "        text-align: right;\n",
       "    }\n",
       "</style>\n",
       "<table border=\"1\" class=\"dataframe\">\n",
       "  <thead>\n",
       "    <tr style=\"text-align: right;\">\n",
       "      <th></th>\n",
       "      <th>genbank_accession</th>\n",
       "      <th>genbank_accession.1</th>\n",
       "      <th>strain</th>\n",
       "      <th>region</th>\n",
       "      <th>location</th>\n",
       "      <th>collection_date</th>\n",
       "      <th>submitted_date</th>\n",
       "      <th>host</th>\n",
       "      <th>isolation_source</th>\n",
       "      <th>biosample_accession</th>\n",
       "      <th>length</th>\n",
       "      <th>count_ns</th>\n",
       "      <th>percent_ns</th>\n",
       "    </tr>\n",
       "  </thead>\n",
       "  <tbody>\n",
       "    <tr>\n",
       "      <th>0</th>\n",
       "      <td>NC_045512</td>\n",
       "      <td>NC_045512</td>\n",
       "      <td>NC_045512</td>\n",
       "      <td>Asia</td>\n",
       "      <td>China</td>\n",
       "      <td>2019-12</td>\n",
       "      <td>2020-01-13T00:00:00Z</td>\n",
       "      <td>Homo sapiens</td>\n",
       "      <td>NaN</td>\n",
       "      <td>NaN</td>\n",
       "      <td>29903</td>\n",
       "      <td>0</td>\n",
       "      <td>0.0</td>\n",
       "    </tr>\n",
       "    <tr>\n",
       "      <th>1</th>\n",
       "      <td>MN908947</td>\n",
       "      <td>MN908947</td>\n",
       "      <td>MN908947</td>\n",
       "      <td>Asia</td>\n",
       "      <td>China</td>\n",
       "      <td>2019-12</td>\n",
       "      <td>2020-01-12T00:00:00Z</td>\n",
       "      <td>Homo sapiens</td>\n",
       "      <td>NaN</td>\n",
       "      <td>NaN</td>\n",
       "      <td>29903</td>\n",
       "      <td>0</td>\n",
       "      <td>0.0</td>\n",
       "    </tr>\n",
       "  </tbody>\n",
       "</table>\n",
       "</div>"
      ],
      "text/plain": [
       "  genbank_accession genbank_accession.1     strain region location  \\\n",
       "0         NC_045512           NC_045512  NC_045512   Asia    China   \n",
       "1          MN908947            MN908947   MN908947   Asia    China   \n",
       "\n",
       "  collection_date        submitted_date          host isolation_source  \\\n",
       "0         2019-12  2020-01-13T00:00:00Z  Homo sapiens              NaN   \n",
       "1         2019-12  2020-01-12T00:00:00Z  Homo sapiens              NaN   \n",
       "\n",
       "  biosample_accession  length  count_ns  percent_ns  \n",
       "0                 NaN   29903         0         0.0  \n",
       "1                 NaN   29903         0         0.0  "
      ]
     },
     "execution_count": 10,
     "metadata": {},
     "output_type": "execute_result"
    }
   ],
   "source": [
    "metadata_genbank_df = pd.read_csv('data/metadata-genbank.tsv', sep='\\t')\n",
    "print(f'length metadata_genbank_df: {len(metadata_genbank_df)}')\n",
    "metadata_genbank_df.head(2)"
   ]
  },
  {
   "cell_type": "code",
   "execution_count": 14,
   "id": "e8d2abeb-3a2b-4499-b378-996c75a4899c",
   "metadata": {},
   "outputs": [
    {
     "data": {
      "text/html": [
       "<div>\n",
       "<style scoped>\n",
       "    .dataframe tbody tr th:only-of-type {\n",
       "        vertical-align: middle;\n",
       "    }\n",
       "\n",
       "    .dataframe tbody tr th {\n",
       "        vertical-align: top;\n",
       "    }\n",
       "\n",
       "    .dataframe thead th {\n",
       "        text-align: right;\n",
       "    }\n",
       "</style>\n",
       "<table border=\"1\" class=\"dataframe\">\n",
       "  <thead>\n",
       "    <tr style=\"text-align: right;\">\n",
       "      <th></th>\n",
       "      <th>genbank_accession.1</th>\n",
       "      <th>strain</th>\n",
       "      <th>region</th>\n",
       "      <th>location</th>\n",
       "      <th>collection_date</th>\n",
       "      <th>submitted_date</th>\n",
       "      <th>host</th>\n",
       "      <th>isolation_source</th>\n",
       "      <th>biosample_accession</th>\n",
       "      <th>length</th>\n",
       "      <th>count_ns</th>\n",
       "      <th>percent_ns</th>\n",
       "      <th>taxon</th>\n",
       "      <th>lineage</th>\n",
       "      <th>conflict</th>\n",
       "      <th>pangolin_version</th>\n",
       "      <th>pangoLEARN_version</th>\n",
       "      <th>pango_version</th>\n",
       "      <th>status</th>\n",
       "      <th>note</th>\n",
       "    </tr>\n",
       "    <tr>\n",
       "      <th>genbank_accession</th>\n",
       "      <th></th>\n",
       "      <th></th>\n",
       "      <th></th>\n",
       "      <th></th>\n",
       "      <th></th>\n",
       "      <th></th>\n",
       "      <th></th>\n",
       "      <th></th>\n",
       "      <th></th>\n",
       "      <th></th>\n",
       "      <th></th>\n",
       "      <th></th>\n",
       "      <th></th>\n",
       "      <th></th>\n",
       "      <th></th>\n",
       "      <th></th>\n",
       "      <th></th>\n",
       "      <th></th>\n",
       "      <th></th>\n",
       "      <th></th>\n",
       "    </tr>\n",
       "  </thead>\n",
       "  <tbody>\n",
       "    <tr>\n",
       "      <th>NC_045512</th>\n",
       "      <td>NC_045512</td>\n",
       "      <td>NC_045512</td>\n",
       "      <td>Asia</td>\n",
       "      <td>China</td>\n",
       "      <td>2019-12</td>\n",
       "      <td>2020-01-13T00:00:00Z</td>\n",
       "      <td>Homo sapiens</td>\n",
       "      <td>NaN</td>\n",
       "      <td>NaN</td>\n",
       "      <td>29903</td>\n",
       "      <td>0</td>\n",
       "      <td>0.0</td>\n",
       "      <td>NC_045512</td>\n",
       "      <td>B</td>\n",
       "      <td>0.0</td>\n",
       "      <td>2.4.2</td>\n",
       "      <td>2021-04-28</td>\n",
       "      <td>v1.1.23</td>\n",
       "      <td>passed_qc</td>\n",
       "      <td>NaN</td>\n",
       "    </tr>\n",
       "    <tr>\n",
       "      <th>MN908947</th>\n",
       "      <td>MN908947</td>\n",
       "      <td>MN908947</td>\n",
       "      <td>Asia</td>\n",
       "      <td>China</td>\n",
       "      <td>2019-12</td>\n",
       "      <td>2020-01-12T00:00:00Z</td>\n",
       "      <td>Homo sapiens</td>\n",
       "      <td>NaN</td>\n",
       "      <td>NaN</td>\n",
       "      <td>29903</td>\n",
       "      <td>0</td>\n",
       "      <td>0.0</td>\n",
       "      <td>MN908947</td>\n",
       "      <td>B</td>\n",
       "      <td>0.0</td>\n",
       "      <td>2.4.2</td>\n",
       "      <td>2021-04-28</td>\n",
       "      <td>v1.1.23</td>\n",
       "      <td>passed_qc</td>\n",
       "      <td>NaN</td>\n",
       "    </tr>\n",
       "  </tbody>\n",
       "</table>\n",
       "</div>"
      ],
      "text/plain": [
       "                  genbank_accession.1     strain region location  \\\n",
       "genbank_accession                                                  \n",
       "NC_045512                   NC_045512  NC_045512   Asia    China   \n",
       "MN908947                     MN908947   MN908947   Asia    China   \n",
       "\n",
       "                  collection_date        submitted_date          host  \\\n",
       "genbank_accession                                                       \n",
       "NC_045512                 2019-12  2020-01-13T00:00:00Z  Homo sapiens   \n",
       "MN908947                  2019-12  2020-01-12T00:00:00Z  Homo sapiens   \n",
       "\n",
       "                  isolation_source biosample_accession  length  count_ns  \\\n",
       "genbank_accession                                                          \n",
       "NC_045512                      NaN                 NaN   29903         0   \n",
       "MN908947                       NaN                 NaN   29903         0   \n",
       "\n",
       "                   percent_ns      taxon lineage  conflict pangolin_version  \\\n",
       "genbank_accession                                                             \n",
       "NC_045512                 0.0  NC_045512       B       0.0            2.4.2   \n",
       "MN908947                  0.0   MN908947       B       0.0            2.4.2   \n",
       "\n",
       "                  pangoLEARN_version pango_version     status note  \n",
       "genbank_accession                                                   \n",
       "NC_045512                 2021-04-28       v1.1.23  passed_qc  NaN  \n",
       "MN908947                  2021-04-28       v1.1.23  passed_qc  NaN  "
      ]
     },
     "execution_count": 14,
     "metadata": {},
     "output_type": "execute_result"
    }
   ],
   "source": [
    "metadata_df = metadata_genbank_df.merge(pangolin_df, left_on='genbank_accession', right_on='taxon').set_index('genbank_accession')\n",
    "metadata_df.head(2)"
   ]
  },
  {
   "cell_type": "code",
   "execution_count": 15,
   "id": "1bae9a7b-5453-4d76-a06a-b007fbb21de7",
   "metadata": {},
   "outputs": [
    {
     "name": "stdout",
     "output_type": "stream",
     "text": [
      "Final metadata: data/metadata.tsv\n"
     ]
    }
   ],
   "source": [
    "output_metadata = 'data/metadata.tsv'\n",
    "metadata_df.to_csv(output_metadata, sep='\\t')\n",
    "print(f'Final metadata: {output_metadata}')"
   ]
  }
 ],
 "metadata": {
  "kernelspec": {
   "display_name": "Python 3",
   "language": "python",
   "name": "python3"
  },
  "language_info": {
   "codemirror_mode": {
    "name": "ipython",
    "version": 3
   },
   "file_extension": ".py",
   "mimetype": "text/x-python",
   "name": "python",
   "nbconvert_exporter": "python",
   "pygments_lexer": "ipython3",
   "version": "3.8.8"
  }
 },
 "nbformat": 4,
 "nbformat_minor": 5
}

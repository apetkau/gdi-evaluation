{
 "cells": [
  {
   "cell_type": "markdown",
   "id": "d3f322fe-e32a-406b-9427-9d97544ddc47",
   "metadata": {},
   "source": [
    "# Download SARS-CoV-2 genomes from genbank\n",
    "\n",
    "The download script is derived from one provided by [covidcg](https://github.com/vector-engineering/covidcg/tree/master/workflow_genbank_ingest/scripts)."
   ]
  },
  {
   "cell_type": "code",
   "execution_count": 5,
   "id": "51063b23-282a-445e-88ca-58f837d0ed48",
   "metadata": {},
   "outputs": [
    {
     "name": "stdout",
     "output_type": "stream",
     "text": [
      "Downloaded on: Thu May  6 11:44:45 CDT 2021\n",
      "Took 22.0 minutes\n",
      "Output in: data/sars-cov-2-genbank.json.gz\n"
     ]
    }
   ],
   "source": [
    "import time\n",
    "\n",
    "output_file = 'data/sars-cov-2-genbank.json.gz'\n",
    "\n",
    "begin_time = time.time()\n",
    "!echo \"Downloaded on: `date`\"\n",
    "!python ../../scripts/download-ncbi-sars-cov-2.py | gzip > {output_file}\n",
    "end_time = time.time()\n",
    "print(f'Took {(end_time - begin_time)/60:0.1f} minutes')\n",
    "print(f'Output in: {output_file}')"
   ]
  },
  {
   "cell_type": "code",
   "execution_count": 6,
   "id": "192e0da7-da6d-4caf-9534-597129a0632e",
   "metadata": {},
   "outputs": [
    {
     "name": "stdout",
     "output_type": "stream",
     "text": [
      "-rw-r--r-- 1 apetkau grp_apetkau 1.5G May  6 12:06 data/sars-cov-2-genbank.json.gz\n"
     ]
    }
   ],
   "source": [
    "!ls -lh {output_file}"
   ]
  }
 ],
 "metadata": {
  "kernelspec": {
   "display_name": "Python 3",
   "language": "python",
   "name": "python3"
  },
  "language_info": {
   "codemirror_mode": {
    "name": "ipython",
    "version": 3
   },
   "file_extension": ".py",
   "mimetype": "text/x-python",
   "name": "python",
   "nbconvert_exporter": "python",
   "pygments_lexer": "ipython3",
   "version": "3.8.8"
  }
 },
 "nbformat": 4,
 "nbformat_minor": 5
}

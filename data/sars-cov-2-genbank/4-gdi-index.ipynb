{
 "cells": [
  {
   "cell_type": "markdown",
   "id": "71410b67-8f94-4fa2-b360-57189a8cff74",
   "metadata": {},
   "source": [
    "# Create a genomics data index from sequences\n",
    "\n",
    "First let's print the commit of the GDI software we are using"
   ]
  },
  {
   "cell_type": "code",
   "execution_count": 1,
   "id": "b9287c3f-d94d-4bf0-93fa-80a63db90e8f",
   "metadata": {},
   "outputs": [
    {
     "name": "stdout",
     "output_type": "stream",
     "text": [
      "bc2f81ea620e1319fd3a8b8d992d7965a7720d54\n"
     ]
    }
   ],
   "source": [
    "gdi_root = '../../dependencies/genomics-data-index/'\n",
    "!git -C {gdi_root} rev-parse HEAD"
   ]
  },
  {
   "cell_type": "markdown",
   "id": "60166084-a96b-48a3-b9a8-a42d6b242f26",
   "metadata": {},
   "source": [
    "## Create project directory"
   ]
  },
  {
   "cell_type": "code",
   "execution_count": 2,
   "id": "784656bb-54f7-4aa7-83d0-c914ff9295a8",
   "metadata": {},
   "outputs": [
    {
     "name": "stdout",
     "output_type": "stream",
     "text": [
      "/home/CSCScience.ca/apetkau/.local/lib/python3.8/site-packages/requests/__init__.py:89: RequestsDependencyWarning: urllib3 (1.26.4) or chardet (3.0.4) doesn't match a supported version!\n",
      "  warnings.warn(\"urllib3 ({}) or chardet ({}) doesn't match a supported \"\n",
      "Initializing empty project in [data/sars-cov-2-genbank-index]\n"
     ]
    }
   ],
   "source": [
    "gdi_project_dir = 'data/sars-cov-2-genbank-index'\n",
    "!gdi init {gdi_project_dir}"
   ]
  },
  {
   "cell_type": "markdown",
   "id": "3d9c6eb8-63ae-4533-b8db-d1e45260c9e3",
   "metadata": {},
   "source": [
    "## Create file listing all genome names\n",
    "\n",
    "Create a file listing all genome names to index. You don't have to do this (you can pass do `data/fasta/*.fasta`) but if the number of genomes becomes too much for the shell to handle on the command-line then passing as a list of files is the only option."
   ]
  },
  {
   "cell_type": "code",
   "execution_count": 3,
   "id": "8f68e405-64fb-4fb4-b70b-0ecbfe108ae1",
   "metadata": {},
   "outputs": [
    {
     "name": "stdout",
     "output_type": "stream",
     "text": [
      "Wrote list of files to: data/gdi.fofn\n"
     ]
    }
   ],
   "source": [
    "from pathlib import Path\n",
    "\n",
    "fasta_dir = Path('data/fasta')\n",
    "gdi_fofn = Path('data/gdi.fofn')\n",
    "\n",
    "with open(gdi_fofn, 'w') as fh:\n",
    "    for file in fasta_dir.iterdir():\n",
    "        if file.name.endswith('.fasta'):\n",
    "            fh.write(f'{file}\\n')\n",
    "            \n",
    "print(f'Wrote list of files to: {gdi_fofn}')"
   ]
  },
  {
   "cell_type": "markdown",
   "id": "8b7009e9-18af-498f-a508-dbd9c96a5515",
   "metadata": {},
   "source": [
    "## Create an index\n",
    "\n",
    "The below creates a genomics index by aligning the assembeled genomes, identifying mutations, and loading into the project directory."
   ]
  },
  {
   "cell_type": "code",
   "execution_count": 4,
   "id": "6240edcf-c851-4170-a3ee-d071a9824651",
   "metadata": {},
   "outputs": [
    {
     "name": "stdout",
     "output_type": "stream",
     "text": [
      "/home/CSCScience.ca/apetkau/.local/lib/python3.8/site-packages/requests/__init__.py:89: RequestsDependencyWarning: urllib3 (1.26.4) or chardet (3.0.4) doesn't match a supported version!\n",
      "  warnings.warn(\"urllib3 ({}) or chardet ({}) doesn't match a supported \"\n",
      "\u001b[32m2021-05-06 14:30:01\u001b[0m \u001b[1;30mINFO:\u001b[0m Processing 395 genomes to identify mutations\n",
      "\u001b[32m2021-05-06 14:30:26\u001b[0m \u001b[1;30mINFO:\u001b[0m Indexing processed VCF files defined in [/home/CSCScience.ca/apetkau/workspace/gdi-evaluation/data/sars-cov-2-genbank/snakemake-assemblies.1620329401.778609/gdi-input.fofn]\n",
      "Loading files listed in /home/CSCScience.ca/apetkau/workspace/gdi-evaluation/data/sars-cov-2-genbank/snakemake-assemblies.1620329401.778609/gdi-input.fofn\n",
      "\u001b[32m2021-05-06 14:30:27\u001b[0m \u001b[1;30mINFO:\u001b[0m Proccessed 0% (0/395) samples\n",
      "\u001b[32m2021-05-06 14:30:30\u001b[0m \u001b[1;30mINFO:\u001b[0m Proccessed 2% (7/395) samples\n",
      "\u001b[32m2021-05-06 14:30:30\u001b[0m \u001b[1;30mINFO:\u001b[0m Proccessed 4% (14/395) samples\n",
      "\u001b[32m2021-05-06 14:30:30\u001b[0m \u001b[1;30mINFO:\u001b[0m Proccessed 5% (21/395) samples\n",
      "\u001b[32m2021-05-06 14:30:30\u001b[0m \u001b[1;30mINFO:\u001b[0m Proccessed 7% (28/395) samples\n",
      "\u001b[32m2021-05-06 14:30:30\u001b[0m \u001b[1;30mINFO:\u001b[0m Proccessed 9% (35/395) samples\n",
      "\u001b[32m2021-05-06 14:30:30\u001b[0m \u001b[1;30mINFO:\u001b[0m Proccessed 11% (42/395) samples\n",
      "\u001b[32m2021-05-06 14:30:30\u001b[0m \u001b[1;30mINFO:\u001b[0m Proccessed 12% (49/395) samples\n",
      "\u001b[32m2021-05-06 14:30:30\u001b[0m \u001b[1;30mINFO:\u001b[0m Proccessed 14% (56/395) samples\n",
      "\u001b[32m2021-05-06 14:30:30\u001b[0m \u001b[1;30mINFO:\u001b[0m Proccessed 16% (63/395) samples\n",
      "\u001b[32m2021-05-06 14:30:30\u001b[0m \u001b[1;30mINFO:\u001b[0m Proccessed 18% (70/395) samples\n",
      "\u001b[32m2021-05-06 14:30:30\u001b[0m \u001b[1;30mINFO:\u001b[0m Proccessed 19% (77/395) samples\n",
      "\u001b[32m2021-05-06 14:30:30\u001b[0m \u001b[1;30mINFO:\u001b[0m Proccessed 21% (84/395) samples\n",
      "\u001b[32m2021-05-06 14:30:30\u001b[0m \u001b[1;30mINFO:\u001b[0m Proccessed 23% (91/395) samples\n",
      "\u001b[32m2021-05-06 14:30:30\u001b[0m \u001b[1;30mINFO:\u001b[0m Proccessed 25% (98/395) samples\n",
      "\u001b[32m2021-05-06 14:30:30\u001b[0m \u001b[1;30mINFO:\u001b[0m Proccessed 27% (105/395) samples\n",
      "\u001b[32m2021-05-06 14:30:30\u001b[0m \u001b[1;30mINFO:\u001b[0m Proccessed 28% (112/395) samples\n",
      "\u001b[32m2021-05-06 14:30:30\u001b[0m \u001b[1;30mINFO:\u001b[0m Proccessed 30% (119/395) samples\n",
      "\u001b[32m2021-05-06 14:30:31\u001b[0m \u001b[1;30mINFO:\u001b[0m Proccessed 32% (126/395) samples\n",
      "\u001b[32m2021-05-06 14:30:31\u001b[0m \u001b[1;30mINFO:\u001b[0m Proccessed 34% (133/395) samples\n",
      "\u001b[32m2021-05-06 14:30:31\u001b[0m \u001b[1;30mINFO:\u001b[0m Proccessed 35% (140/395) samples\n",
      "\u001b[32m2021-05-06 14:30:31\u001b[0m \u001b[1;30mINFO:\u001b[0m Proccessed 37% (147/395) samples\n",
      "\u001b[32m2021-05-06 14:30:31\u001b[0m \u001b[1;30mINFO:\u001b[0m Proccessed 39% (154/395) samples\n",
      "\u001b[32m2021-05-06 14:30:31\u001b[0m \u001b[1;30mINFO:\u001b[0m Proccessed 41% (161/395) samples\n",
      "\u001b[32m2021-05-06 14:30:31\u001b[0m \u001b[1;30mINFO:\u001b[0m Proccessed 43% (168/395) samples\n",
      "\u001b[32m2021-05-06 14:30:31\u001b[0m \u001b[1;30mINFO:\u001b[0m Proccessed 44% (175/395) samples\n",
      "\u001b[32m2021-05-06 14:30:31\u001b[0m \u001b[1;30mINFO:\u001b[0m Proccessed 46% (182/395) samples\n",
      "\u001b[32m2021-05-06 14:30:31\u001b[0m \u001b[1;30mINFO:\u001b[0m Proccessed 48% (189/395) samples\n",
      "\u001b[32m2021-05-06 14:30:31\u001b[0m \u001b[1;30mINFO:\u001b[0m Proccessed 50% (196/395) samples\n",
      "\u001b[32m2021-05-06 14:30:31\u001b[0m \u001b[1;30mINFO:\u001b[0m Proccessed 51% (203/395) samples\n",
      "\u001b[32m2021-05-06 14:30:31\u001b[0m \u001b[1;30mINFO:\u001b[0m Proccessed 53% (210/395) samples\n",
      "\u001b[32m2021-05-06 14:30:31\u001b[0m \u001b[1;30mINFO:\u001b[0m Proccessed 55% (217/395) samples\n",
      "\u001b[32m2021-05-06 14:30:31\u001b[0m \u001b[1;30mINFO:\u001b[0m Proccessed 57% (224/395) samples\n",
      "\u001b[32m2021-05-06 14:30:31\u001b[0m \u001b[1;30mINFO:\u001b[0m Proccessed 58% (231/395) samples\n",
      "\u001b[32m2021-05-06 14:30:31\u001b[0m \u001b[1;30mINFO:\u001b[0m Proccessed 60% (238/395) samples\n",
      "\u001b[32m2021-05-06 14:30:31\u001b[0m \u001b[1;30mINFO:\u001b[0m Proccessed 62% (245/395) samples\n",
      "\u001b[32m2021-05-06 14:30:31\u001b[0m \u001b[1;30mINFO:\u001b[0m Proccessed 64% (252/395) samples\n",
      "\u001b[32m2021-05-06 14:30:31\u001b[0m \u001b[1;30mINFO:\u001b[0m Proccessed 66% (259/395) samples\n",
      "\u001b[32m2021-05-06 14:30:31\u001b[0m \u001b[1;30mINFO:\u001b[0m Proccessed 67% (266/395) samples\n",
      "\u001b[32m2021-05-06 14:30:31\u001b[0m \u001b[1;30mINFO:\u001b[0m Proccessed 69% (273/395) samples\n",
      "\u001b[32m2021-05-06 14:30:31\u001b[0m \u001b[1;30mINFO:\u001b[0m Proccessed 71% (280/395) samples\n",
      "\u001b[32m2021-05-06 14:30:31\u001b[0m \u001b[1;30mINFO:\u001b[0m Proccessed 73% (287/395) samples\n",
      "\u001b[32m2021-05-06 14:30:31\u001b[0m \u001b[1;30mINFO:\u001b[0m Proccessed 74% (294/395) samples\n",
      "\u001b[32m2021-05-06 14:30:31\u001b[0m \u001b[1;30mINFO:\u001b[0m Proccessed 76% (301/395) samples\n",
      "\u001b[32m2021-05-06 14:30:31\u001b[0m \u001b[1;30mINFO:\u001b[0m Proccessed 78% (308/395) samples\n",
      "\u001b[32m2021-05-06 14:30:31\u001b[0m \u001b[1;30mINFO:\u001b[0m Proccessed 80% (315/395) samples\n",
      "\u001b[32m2021-05-06 14:30:31\u001b[0m \u001b[1;30mINFO:\u001b[0m Proccessed 82% (322/395) samples\n",
      "\u001b[32m2021-05-06 14:30:31\u001b[0m \u001b[1;30mINFO:\u001b[0m Proccessed 83% (329/395) samples\n",
      "\u001b[32m2021-05-06 14:30:31\u001b[0m \u001b[1;30mINFO:\u001b[0m Proccessed 85% (336/395) samples\n",
      "\u001b[32m2021-05-06 14:30:31\u001b[0m \u001b[1;30mINFO:\u001b[0m Proccessed 87% (343/395) samples\n",
      "\u001b[32m2021-05-06 14:30:31\u001b[0m \u001b[1;30mINFO:\u001b[0m Proccessed 89% (350/395) samples\n",
      "\u001b[32m2021-05-06 14:30:31\u001b[0m \u001b[1;30mINFO:\u001b[0m Proccessed 90% (357/395) samples\n",
      "\u001b[32m2021-05-06 14:30:31\u001b[0m \u001b[1;30mINFO:\u001b[0m Proccessed 92% (364/395) samples\n",
      "\u001b[32m2021-05-06 14:30:31\u001b[0m \u001b[1;30mINFO:\u001b[0m Proccessed 94% (371/395) samples\n",
      "\u001b[32m2021-05-06 14:30:31\u001b[0m \u001b[1;30mINFO:\u001b[0m Proccessed 96% (378/395) samples\n",
      "\u001b[32m2021-05-06 14:30:32\u001b[0m \u001b[1;30mINFO:\u001b[0m Proccessed 97% (385/395) samples\n",
      "\u001b[32m2021-05-06 14:30:32\u001b[0m \u001b[1;30mINFO:\u001b[0m Proccessed 99% (392/395) samples\n",
      "\u001b[32m2021-05-06 14:30:32\u001b[0m \u001b[1;30mINFO:\u001b[0m Proccessed 100% (395/395) samples\n",
      "\u001b[32m2021-05-06 14:30:32\u001b[0m \u001b[1;30mINFO:\u001b[0m Finished processing 395 samples\n",
      "\u001b[32m2021-05-06 14:30:32\u001b[0m \u001b[1;30mINFO:\u001b[0m Indexing features from all samples\n",
      "\u001b[32m2021-05-06 14:30:34\u001b[0m \u001b[1;30mINFO:\u001b[0m Finished indexing features from all samples\n",
      "Loaded variants from [/home/CSCScience.ca/apetkau/workspace/gdi-evaluation/data/sars-cov-2-genbank/snakemake-assemblies.1620329401.778609/gdi-input.fofn] into database\n",
      "\u001b[32m2021-05-06 14:30:34\u001b[0m \u001b[1;30mINFO:\u001b[0m --clean is enabled so deleting [/home/CSCScience.ca/apetkau/workspace/gdi-evaluation/data/sars-cov-2-genbank/snakemake-assemblies.1620329401.778609]\n",
      "\tCommand being timed: \"gdi --ncores 32 --project-dir data/sars-cov-2-genbank-index analysis assembly --reference-file MN996528.1-ref.fasta --assembly-input-file data/gdi.fofn\"\n",
      "\tUser time (seconds): 221.93\n",
      "\tSystem time (seconds): 223.78\n",
      "\tPercent of CPU this job got: 1248%\n",
      "\tElapsed (wall clock) time (h:mm:ss or m:ss): 0:35.71\n",
      "\tAverage shared text size (kbytes): 0\n",
      "\tAverage unshared data size (kbytes): 0\n",
      "\tAverage stack size (kbytes): 0\n",
      "\tAverage total size (kbytes): 0\n",
      "\tMaximum resident set size (kbytes): 179396\n",
      "\tAverage resident set size (kbytes): 0\n",
      "\tMajor (requiring I/O) page faults: 0\n",
      "\tMinor (reclaiming a frame) page faults: 8739254\n",
      "\tVoluntary context switches: 427491\n",
      "\tInvoluntary context switches: 56576858\n",
      "\tSwaps: 0\n",
      "\tFile system inputs: 80\n",
      "\tFile system outputs: 94776\n",
      "\tSocket messages sent: 0\n",
      "\tSocket messages received: 0\n",
      "\tSignals delivered: 0\n",
      "\tPage size (bytes): 4096\n",
      "\tExit status: 0\n"
     ]
    }
   ],
   "source": [
    "reference_file = 'MN996528.1-ref.fasta'\n",
    "fasta_dir = 'data/fasta'\n",
    "\n",
    "!/usr/bin/time -v gdi --ncores 32 --project-dir {gdi_project_dir} analysis assembly \\\n",
    "    --reference-file {reference_file} --assembly-input-file {gdi_fofn}"
   ]
  },
  {
   "cell_type": "markdown",
   "id": "ee496f8e-2ead-4dfa-b87c-e127cb3cfbe5",
   "metadata": {},
   "source": [
    "## Build phylogenetic tree\n",
    "\n",
    "Let's build the phylogenetic tree separately."
   ]
  },
  {
   "cell_type": "code",
   "execution_count": 7,
   "id": "c2437172-532f-49f7-9657-0bdcf4eb2b28",
   "metadata": {},
   "outputs": [
    {
     "name": "stdout",
     "output_type": "stream",
     "text": [
      "/home/CSCScience.ca/apetkau/.local/lib/python3.8/site-packages/requests/__init__.py:89: RequestsDependencyWarning: urllib3 (1.26.4) or chardet (3.0.4) doesn't match a supported version!\n",
      "  warnings.warn(\"urllib3 ({}) or chardet ({}) doesn't match a supported \"\n",
      "\u001b[32m2021-05-06 14:30:50\u001b[0m \u001b[1;30mINFO:\u001b[0m Started rebuilding tree for reference genome [MN996528.1-ref]\n",
      "\u001b[32m2021-05-06 14:32:17\u001b[0m \u001b[1;30mINFO:\u001b[0m Finished rebuilding tree\n",
      "\tCommand being timed: \"gdi --ncores 52 --project-dir data/sars-cov-2-genbank-index rebuild tree --align-type full --extra-params --fast -m GTR+F+R4 MN996528.1-ref\"\n",
      "\tUser time (seconds): 3304.32\n",
      "\tSystem time (seconds): 341.99\n",
      "\tPercent of CPU this job got: 4079%\n",
      "\tElapsed (wall clock) time (h:mm:ss or m:ss): 1:29.39\n",
      "\tAverage shared text size (kbytes): 0\n",
      "\tAverage unshared data size (kbytes): 0\n",
      "\tAverage stack size (kbytes): 0\n",
      "\tAverage total size (kbytes): 0\n",
      "\tMaximum resident set size (kbytes): 182880\n",
      "\tAverage resident set size (kbytes): 0\n",
      "\tMajor (requiring I/O) page faults: 0\n",
      "\tMinor (reclaiming a frame) page faults: 1663925\n",
      "\tVoluntary context switches: 193585\n",
      "\tInvoluntary context switches: 731423\n",
      "\tSwaps: 0\n",
      "\tFile system inputs: 8\n",
      "\tFile system outputs: 76560\n",
      "\tSocket messages sent: 0\n",
      "\tSocket messages received: 0\n",
      "\tSignals delivered: 0\n",
      "\tPage size (bytes): 4096\n",
      "\tExit status: 0\n"
     ]
    }
   ],
   "source": [
    "# I set model here to make things run faster\n",
    "# Appropriate model was one of the better-scoring ones determined previously on a different set of SARS-CoV-2 genomes\n",
    "# I probably need to revisit this to make sure the model is appropriate for this data\n",
    "tree_extra_params = '--fast -m GTR+F+R4'\n",
    "\n",
    "# For some reason having more than one {variable} in a command-line string prevents variable substitution\n",
    "# so I have to hard-code all of the paths/variables\n",
    "!/usr/bin/time -v gdi --ncores 52 --project-dir data/sars-cov-2-genbank-index rebuild tree \\\n",
    "    --align-type full --extra-params '--fast -m GTR+F+R4' MN996528.1-ref"
   ]
  },
  {
   "cell_type": "markdown",
   "id": "968ac649-fa43-43b0-b4f4-93d801fda8ce",
   "metadata": {},
   "source": [
    "Awesome. Now we're reading to search through our index and generate some visualizations."
   ]
  }
 ],
 "metadata": {
  "kernelspec": {
   "display_name": "Python 3",
   "language": "python",
   "name": "python3"
  },
  "language_info": {
   "codemirror_mode": {
    "name": "ipython",
    "version": 3
   },
   "file_extension": ".py",
   "mimetype": "text/x-python",
   "name": "python",
   "nbconvert_exporter": "python",
   "pygments_lexer": "ipython3",
   "version": "3.8.8"
  }
 },
 "nbformat": 4,
 "nbformat_minor": 5
}
